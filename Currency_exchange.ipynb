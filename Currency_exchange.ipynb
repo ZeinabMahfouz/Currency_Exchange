{
 "cells": [
  {
   "cell_type": "code",
   "execution_count": 3,
   "id": "a15f66d0-245a-4b13-b356-15bdffbcfb75",
   "metadata": {},
   "outputs": [
    {
     "name": "stdin",
     "output_type": "stream",
     "text": [
      "Enter the base currency (e.g., USD):  usd\n",
      "Enter the target currency (e.g., EUR):  eur\n"
     ]
    },
    {
     "name": "stdout",
     "output_type": "stream",
     "text": [
      "\n",
      " Exchange rate from USD to EUR: 0.8505\n",
      "Last updated: Fri, 25 Jul 2025 00:00:01 +0000\n"
     ]
    }
   ],
   "source": [
    "import requests\n",
    "api_key = \"d20fb39d1762cae16523100f\"\n",
    "base_url = f\"https://v6.exchangerate-api.com/v6/{api_key}\"\n",
    "base_currency = input(\"Enter the base currency (e.g., USD): \").upper()\n",
    "target_currency = input(\"Enter the target currency (e.g., EUR): \").upper()\n",
    "url = f\"{base_url}/pair/{base_currency}/{target_currency}\"\n",
    "response = requests.get(url)\n",
    "if response.status_code == 200:\n",
    "    data = response.json()\n",
    "    if data[\"result\"] == \"success\":\n",
    "        rate = data[\"conversion_rate\"]\n",
    "        last_update = data.get(\"time_last_update_utc\", \"Unknown\")\n",
    "        print(f\"\\n Exchange rate from {base_currency} to {target_currency}: {rate}\")\n",
    "        print(f\"Last updated: {last_update}\")\n",
    "    else:\n",
    "            print(f\"Error from API: {data.get('error-type', 'Unknown error')}\")\n",
    "else:\n",
    "    print(f\"HTTP error {response.status_code}: {response.text}\")\n"
   ]
  },
  {
   "cell_type": "code",
   "execution_count": null,
   "id": "9f2b96bb-aaa8-41f4-be4e-4fe86636a806",
   "metadata": {},
   "outputs": [],
   "source": []
  }
 ],
 "metadata": {
  "kernelspec": {
   "display_name": "Python 3 (ipykernel)",
   "language": "python",
   "name": "python3"
  },
  "language_info": {
   "codemirror_mode": {
    "name": "ipython",
    "version": 3
   },
   "file_extension": ".py",
   "mimetype": "text/x-python",
   "name": "python",
   "nbconvert_exporter": "python",
   "pygments_lexer": "ipython3",
   "version": "3.11.5"
  }
 },
 "nbformat": 4,
 "nbformat_minor": 5
}
